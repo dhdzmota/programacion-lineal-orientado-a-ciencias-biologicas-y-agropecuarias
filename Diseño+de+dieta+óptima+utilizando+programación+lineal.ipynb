{
 "cells": [
  {
   "cell_type": "markdown",
   "metadata": {},
   "source": [
    "# Diseño de la Dieta Óptima\n",
    "\n",
    "Se quiere producir comida para gatos de la manera más barata, no obstante se debe también asegurar que se cumplan los datos requeridos de analisis nutricional. Por lo que se quiere variar la cantidad de cada ingrediente para cumplir con los estandares nutricionales. Los requisitos que se tienen es que en 100 gramos, se deben tener por lo menos 8 gramos de proteína y 6 gramos de grasa. Así mismo, no se debe tener más de 2 gramos de fibra y 0.4 gramos de sal.  \n",
    "\n",
    "Los datos nutricionales se pueden obtener de la siguiente tabla:\n",
    "\n",
    "Ingrediente|Proteína|Grasa|Fibra|Sal\n",
    ":----|----\n",
    "Pollo|  10.0%|08.0%|00.1%|00.2%\n",
    "Carne|  20.0%|10.0%|00.5%|00.5%\n",
    "Cordero|15.0%|11.0%|00.5%|00.7%\n",
    "Arroz|  00.0%|01.0%|10.0%|00.2%\n",
    "Trigo|  04.0%|01.0%|15.0%|00.8%\n",
    "Gel|    00.0%|00.0%|00.0%|00.0%\n",
    "\n",
    "Los costos de cada producto son:\n",
    "\n",
    "Ingrediente|Costo\n",
    ":----|----\n",
    "Pollo|$\\$$0.013\n",
    "Carne|$\\$$0.008\n",
    "Cordero|$\\$$0.010\n",
    "Arroz|$\\$$0.002\n",
    "Trigo|$\\$$0.005\n",
    "Gel|$\\$$0.001    \n",
    "\n",
    "Lo que se busca optimizar en este caso es la cantidad de productos que se debe utilizar en la comida de gato, para simplificar la notación se van a nombrar las siguientes variables: \n",
    "\n",
    "$X_1:$ Porcentaje de pollo  \n",
    "$X_2:$ Porcentaje de carne  \n",
    "$X_3:$ Porcentaje de cordero  \n",
    "$X_4:$ Porcentaje de arroz  \n",
    "$X_5:$ Porcentaje de trigo  \n",
    "$X_6:$ Porcentaje de gel  \n",
    "\n",
    "Con los datos, se puede plantear la función objetivo, está dada por la siguiente expresión:\n",
    "\n",
    "$Minimizar: Costo=$ $0.013X_1 + 0.008X_2 + 0.010X_3 + 0.002X_4 + 0.005X_5 + 0.001X_6$\n",
    "\n",
    "Las restricciones estarían dadas por el siguiente conjunto de ecuaciones:\n",
    "\n",
    "$X_1+X_2+X_3+X_4+X_5+X_6=100$  \n",
    "\n",
    "$(10.0 X_1+ 20.0 X_2+ 15.0 X_3+ 00.0 X_4+ 04.0 X_5+ 00.0 X_6)/100 \\geq 8.0$  \n",
    "\n",
    "$(08.0 X_1+ 10.0 X_2+ 11.0 X_3+ 01.0 X_4+ 01.0 X_5+ 00.0 X_6)/100 \\geq 6.0$  \n",
    "\n",
    "$(00.1 X_1+ 00.5 X_2+ 00.5 X_3+ 10.0 X_4+ 15.0 X_5+ 00.0 X_6)/100 \\leq 2.0$  \n",
    "\n",
    "$(00.2 X_1+ 00.5 X_2+ 00.7 X_3+ 00.2 X_4+ 00.8 X_5+ 00.0 X_6)/100 \\leq 0.4$  \n",
    "\n",
    "La primer condición asegura que la cantidad de productos que se usará cumple con el 100%. Las siguientes sólo siguen los lineamientos planteados para cumplir con los requisitos nutrimentales. "
   ]
  },
  {
   "cell_type": "code",
   "execution_count": 7,
   "metadata": {},
   "outputs": [
    {
     "name": "stdout",
     "output_type": "stream",
     "text": [
      "Status: Optimal\n",
      "X1:_Porcentaje_de_pollo = 0.0 %\n",
      "X2:_Porcentaje_de_carne = 60.0 %\n",
      "X3:_Porcentaje_de_cordero = 0.0 %\n",
      "X4:_Porcentaje_de_arroz = 0.0 %\n",
      "X5:_Porcentaje_de_trigo = 0.0 %\n",
      "X6:_Porcentaje_de_gel = 40.0 %\n",
      "Valor Óptimo = $ 0.52\n"
     ]
    }
   ],
   "source": [
    "from pulp import *\n",
    "\n",
    "#Se genera la variable del problema,\n",
    "prob=LpProblem(\"Costo mínimo de la dieta\", LpMinimize)\n",
    "\n",
    "#Se definen las variables que serán utilizadas\n",
    "X_1=LpVariable(\"X1: Porcentaje de pollo\", lowBound=0)\n",
    "X_2=LpVariable(\"X2: Porcentaje de carne\", lowBound=0)\n",
    "X_3=LpVariable(\"X3: Porcentaje de cordero\", lowBound=0)\n",
    "X_4=LpVariable(\"X4: Porcentaje de arroz\", lowBound=0)\n",
    "X_5=LpVariable(\"X5: Porcentaje de trigo\", lowBound=0)\n",
    "X_6=LpVariable(\"X6: Porcentaje de gel\", lowBound=0)\n",
    "\n",
    "#Se crea la función objetivo:\n",
    "Funcion_objetivo= 0.013*X_1 + 0.008*X_2 + 0.010*X_3 + 0.002*X_4 + 0.005*X_5 + 0.001*X_6\n",
    "\n",
    "#Se crean las resteicciones\n",
    "\n",
    "restriccion1=X_1+X_2+X_3+X_4+X_5+X_6 == 100\n",
    "restriccion2=(10.0*X_1+ 20.0*X_2+ 15.0*X_3+ 00.0*X_4+ 04.0*X_5+ 00.0*X_6)/100 >= 8.0  \n",
    "restriccion3=(08.0*X_1+ 10.0*X_2+ 11.0*X_3+ 01.0*X_4+ 01.0*X_5+ 00.0*X_6)/100  >= 6.0\n",
    "restriccion4=(00.1*X_1+ 00.5*X_2+ 00.5*X_3+ 10.0*X_4+ 15.0*X_5+ 00.0*X_6)/100  <= 2.0\n",
    "restriccion5=(00.2*X_1+ 00.5*X_2+ 00.7*X_3+ 00.2*X_4+ 00.8*X_5+ 00.0*X_6)/100  <= 0.4\n",
    "\n",
    "#Se agrega la funcion objetivo y las restricciones al problema\n",
    "prob += Funcion_objetivo\n",
    "prob += restriccion1\n",
    "prob += restriccion2\n",
    "prob += restriccion3\n",
    "prob += restriccion4\n",
    "prob += restriccion5\n",
    "\n",
    "#Se soluciona el problema:\n",
    "prob.solve()\n",
    "\n",
    "#Resultados impresos:\n",
    "print (\"Status:\", LpStatus[prob.status])\n",
    "for v in prob.variables():\n",
    "    print(v.name, \"=\", v.varValue,\"%\")\n",
    "print(\"Valor Óptimo = $\", value(prob.objective))\n",
    "\n"
   ]
  },
  {
   "cell_type": "markdown",
   "metadata": {},
   "source": [
    "Se puede observar que con un 40% de gel y 60% de carne se estan cumpliendo los requerimientos y asi mismo, se tiene el costo mínimo que es de $\\$.52$. "
   ]
  }
 ],
 "metadata": {
  "kernelspec": {
   "display_name": "Python 3",
   "language": "python",
   "name": "python3"
  },
  "language_info": {
   "codemirror_mode": {
    "name": "ipython",
    "version": 3
   },
   "file_extension": ".py",
   "mimetype": "text/x-python",
   "name": "python",
   "nbconvert_exporter": "python",
   "pygments_lexer": "ipython3",
   "version": "3.6.1"
  }
 },
 "nbformat": 4,
 "nbformat_minor": 2
}
