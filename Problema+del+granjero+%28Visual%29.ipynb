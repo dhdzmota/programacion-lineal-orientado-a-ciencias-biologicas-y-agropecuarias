{
 "cells": [
  {
   "cell_type": "markdown",
   "metadata": {},
   "source": [
    "# Problema del agricultor (granjero)\n",
    "\n",
    "Un granjero tiene $150$ hectáreas de tierra en la cuál quiere cultivar algodón y papas. Tiene una restricción gubernamental que le previene al granjero otorgarle más de $60$ hectáreas de tierra al algodón, pero puede usar la cantidad que quiera de papas. Se necesitan $30$ pulgadas por hectarea de agua para el algodón y $15$ para las papas, pero el granjero sólo tiene disponible $3000$. Si la ganancia del granjero por hectárea es de $ \\$ 207$ por algodón y $\\$200$ por papas, ¿cuántas hactáreas debería otorgarle a cada producto para obtener la mayor ganancia?"
   ]
  },
  {
   "cell_type": "markdown",
   "metadata": {},
   "source": [
    "Este problema se puede abordar facilmente con programación lineal, descrito desde una perspectiva matemática, se requiere obtener la ganancia máxima $G$ dada por las variables $a$:hectáras de algodón y $p$: hectáreas de papa.  \n",
    "\n",
    "La siguiente expresión es la que se busca maximizar \n",
    "\n",
    "$Maximizar$ $G=207a+200p$ \n",
    "\n",
    "Sujeto a: \n",
    "\n",
    "$a+p \\leq 150$  \n",
    "$a \\leq 60$  \n",
    "$30a+15p \\leq 3000$  \n",
    "$a \\geq 0$  \n",
    "$p \\geq 0$\n",
    "\n",
    "Estas restricciones fueron obtenidas a partir del texto del problema."
   ]
  },
  {
   "cell_type": "markdown",
   "metadata": {},
   "source": [
    "El problema se puede describir fácilmente de una manera gráfica,este se puede observar a continuación"
   ]
  },
  {
   "cell_type": "code",
   "execution_count": 166,
   "metadata": {},
   "outputs": [
    {
     "data": {
      "image/png": "[encoded data removed]",
      "text/plain": [
       "<matplotlib.figure.Figure at 0x16d62de7b38>"
      ]
     },
     "metadata": {},
     "output_type": "display_data"
    }
   ],
   "source": [
    "#Usar bibliotecas\n",
    "import matplotlib.pyplot as plt\n",
    "import numpy as np\n",
    "\n",
    "#Creación de  ecuaciones necesarias para graficarlas:\n",
    "a = np.linspace(0, 90, 10)\n",
    "p1=150-a\n",
    "p2=(3000-30*a)/15\n",
    "p3=0*a\n",
    "r1=np.linspace(0, 200, 10)\n",
    "r2=0*a+60\n",
    "a2=np.linspace(0, 60, 10)\n",
    "\n",
    "#Instrucciones para graficar:\n",
    "\n",
    "fig, ax = plt.subplots()\n",
    "plt.plot(a, p1, label='$a+p \\leq 150$')\n",
    "plt.plot(a, p2, label='$30a+15p \\leq 3000$')\n",
    "plt.plot(r2, r1, label='$a \\leq 60$')\n",
    "plt.plot(0*a,r1, label= '$a \\geq 0$')\n",
    "plt.plot(a,p3, label='$p \\geq 0$')\n",
    "\n",
    "#Instrucciones para rellenar:\n",
    "plt.fill_between(a, p1, 0, where=p1>0, alpha=0.1)\n",
    "plt.fill_between(a, p2, 0, where=p2>0, alpha=0.1)\n",
    "plt.fill_between(a2, 200+0*a2, 0, where=(a2*0+200)>0, alpha=.1)\n",
    "#plt.fill_between(a, 200+0*a,0, where=(a*0+200)>0, alpha=.1)\n",
    "#plt.fill_between(a, 200+0*a,0, where=(a*0+200)>0, alpha=.1)\n",
    "\n",
    "#Nombres de los ejes\n",
    "plt.title(\"Polígono formado por restricciones\")\n",
    "plt.xlabel('Algodón')\n",
    "plt.ylabel('Papas')\n",
    "plt.show()\n"
   ]
  },
  {
   "cell_type": "markdown",
   "metadata": {},
   "source": [
    "Para solucionar este problema se pueden abordar dos casos: Método gráfico o la programación. El problema se solucionará con un problema hecho en python, este se muestra a contínuación"
   ]
  },
  {
   "cell_type": "code",
   "execution_count": 3,
   "metadata": {},
   "outputs": [
    {
     "name": "stdout",
     "output_type": "stream",
     "text": [
      "Status: Optimal\n",
      "Hectáreas_de_algodón: = 50.0\n",
      "Hectáreas_de_papa: = 100.0\n",
      "Valor Óptimo: $ 30350.0\n"
     ]
    }
   ],
   "source": [
    "#Programa: Problema del granjero\n",
    "#Usar librerias\n",
    "from pulp import *\n",
    "\n",
    "#Se crea la variable de problema, y se indica si es necesario maximizar o minimizar:\n",
    "prob=LpProblem(\"Problema del granjero\", LpMaximize)\n",
    "\n",
    "#Se crean cada una de las variables que se requieren determinar\n",
    "#Aquí se definen los límites de las variables, es decir que no pueden ser negativas:\n",
    "a=LpVariable(\"Hectáreas de algodón:\",lowBound=0)\n",
    "p=LpVariable(\"Hectáreas de papa:\",lowBound=0)\n",
    "\n",
    "#Se crea la funcion objetivo:\n",
    "funcion_objetivo=207*a+200*p\n",
    "\n",
    "#La función objetivo se agrega al problema\n",
    "prob += funcion_objetivo\n",
    "\n",
    "#Se crean las restricciones (en este caso solo se tienen 5 restricciones):\n",
    "restriccion1= a + p  <= 150\n",
    "restriccion2= a <= 60\n",
    "restriccion3= 30*a + 15*p <= 3000\n",
    "\n",
    "\n",
    "#Las restricciones se añaden\n",
    "prob += restriccion1\n",
    "prob += restriccion2\n",
    "prob += restriccion3\n",
    "\n",
    "\n",
    "#Se soluciona el problema:\n",
    "prob.solve()\n",
    "\n",
    "#Resultados impresos:\n",
    "print (\"Status:\", LpStatus[prob.status])\n",
    "for v in prob.variables():\n",
    "    print(v.name, \"=\", v.varValue)\n",
    "print(\"Valor Óptimo: $\", value(prob.objective))"
   ]
  },
  {
   "cell_type": "markdown",
   "metadata": {},
   "source": [
    "Si se quisiera hacer por el método gráfico, se deberían analizar los puntos de las esquinas del polígono formado por las restricciones, estos se evaluarían en la función objetivo y se buscaría obtener el número que maximice la función.\n",
    "\n",
    "Para obtener los puntos, se pueden igualar las distintas ecuaciones que definen al polígono, se pueden hacer varios sistemas de ecuaciones:\n",
    "\n",
    "$\n",
    "\\left.30a+15p=3000\\atop a= 60\\right\\} \\therefore a=60, p=80\n",
    "$\n",
    "\n",
    "$\n",
    "\\left. p+a=150\\atop 30a+15p=3000\\right\\} \\therefore a=50, p=100\n",
    "$\n",
    "\n",
    "$\n",
    "\\left. a=0\\atop p=0\\right\\} \\therefore a=0, p=0\n",
    "$\n",
    "\n",
    "$\n",
    "\\left. p+a=150\\atop a=0\\right\\} \\therefore a=0, p=150\n",
    "$\n",
    "\n",
    "$\n",
    "\\left. p=0\\atop a=60\\right\\} \\therefore a=60, p=0\n",
    "$\n",
    "\n",
    "Evaluando en la función objetivo estos puntos se pueden obtener los distintos casos\n",
    "\n",
    " | Algodón | Papa| Función objetivo | Valor\n",
    ":-------| --\n",
    "60| 80 | 207(60)+200(80)  | 28420\n",
    "**50**| **100** |**207(50)+200(100)** |**30350**\n",
    "0| 0 |207(0)+200(0)  | 0\n",
    "0| 150|207(0)+200(150)|30000\n",
    "60| 0|207(60)+200(0)|12420\n",
    "\n",
    "De aquí se puede observar que el par de datos que mejor cumplen con las restricciones es otorgarle 50 hectáreas al algodón y 100 a la papa, esto es tal y cómo se había obtenido en el programa. "
   ]
  }
 ],
 "metadata": {
  "kernelspec": {
   "display_name": "Python 3",
   "language": "python",
   "name": "python3"
  },
  "language_info": {
   "codemirror_mode": {
    "name": "ipython",
    "version": 3
   },
   "file_extension": ".py",
   "mimetype": "text/x-python",
   "name": "python",
   "nbconvert_exporter": "python",
   "pygments_lexer": "ipython3",
   "version": "3.6.1"
  }
 },
 "nbformat": 4,
 "nbformat_minor": 2
}
